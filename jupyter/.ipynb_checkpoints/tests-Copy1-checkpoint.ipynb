{
 "cells": [
  {
   "cell_type": "code",
   "execution_count": 128,
   "metadata": {
    "collapsed": false
   },
   "outputs": [
    {
     "ename": "SyntaxError",
     "evalue": "invalid syntax (<ipython-input-128-6515f481542f>, line 1)",
     "output_type": "error",
     "traceback": [
      "\u001b[0;36m  File \u001b[0;32m\"<ipython-input-128-6515f481542f>\"\u001b[0;36m, line \u001b[0;32m1\u001b[0m\n\u001b[0;31m    from ../kraken_connect import krakenex\u001b[0m\n\u001b[0m           ^\u001b[0m\n\u001b[0;31mSyntaxError\u001b[0m\u001b[0;31m:\u001b[0m invalid syntax\n"
     ]
    }
   ],
   "source": [
    "from kraken_connect import krakenex\n",
    "import strategy\n",
    "from api import assets\n",
    "import pandas as pd\n",
    "\n",
    "# import logging\n",
    "# import time\n",
    "#\n",
    "# # logger = logging.getLogger('main')\n",
    "# # logger.addHandler(logging.StreamHandler())\n",
    "# # hdlr = logging.FileHandler('../log_%s.log' %(time.strftime(\"%Y%m%d\")))\n",
    "# # formatter = logging.Formatter('%(asctime)s %(levelname)s %(message)s')\n",
    "# # hdlr.setFormatter(formatter)\n",
    "# # logger.addHandler(hdlr)\n",
    "# # logger.setLevel(logging.INFO)\n",
    "\n",
    "pair='BCHEUR'\n",
    "k = krakenex.API()\n",
    "k.load_key('../kraken.key')\n",
    "\n",
    "ap = assets.AssetPair(k, pair)\n",
    "ap.refresh_ohlc()\n",
    "prices = ap.get_close_prices()\n",
    "prices_df = pd.DataFrame({'TIMESTAMP': prices.keys(),\n",
    "                          'PRICE': prices.values()})\n",
    "\n",
    "s = strategy.StrategyMV(100, prices_df)\n",
    "s.calc_trades()\n",
    "i = 0\n",
    "\n"
   ]
  }
 ],
 "metadata": {
  "kernelspec": {
   "display_name": "Python 2",
   "language": "python",
   "name": "python2"
  },
  "language_info": {
   "codemirror_mode": {
    "name": "ipython",
    "version": 2
   },
   "file_extension": ".py",
   "mimetype": "text/x-python",
   "name": "python",
   "nbconvert_exporter": "python",
   "pygments_lexer": "ipython2",
   "version": "2.7.13"
  }
 },
 "nbformat": 4,
 "nbformat_minor": 2
}
