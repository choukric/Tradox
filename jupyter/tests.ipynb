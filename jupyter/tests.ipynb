{
 "cells": [
  {
   "cell_type": "code",
   "execution_count": 129,
   "metadata": {
    "collapsed": false
   },
   "outputs": [
    {
     "ename": "ValueError",
     "evalue": "Attempted relative import in non-package",
     "output_type": "error",
     "traceback": [
      "\u001b[0;31m---------------------------------------------------------------------------\u001b[0m",
      "\u001b[0;31mValueError\u001b[0m                                Traceback (most recent call last)",
      "\u001b[0;32m<ipython-input-129-e2c3fb06ac67>\u001b[0m in \u001b[0;36m<module>\u001b[0;34m()\u001b[0m\n\u001b[0;32m----> 1\u001b[0;31m \u001b[0;32mfrom\u001b[0m \u001b[0;34m.\u001b[0m\u001b[0;34m.\u001b[0m\u001b[0;34m.\u001b[0m \u001b[0;32mimport\u001b[0m \u001b[0mkraken_connect\u001b[0m\u001b[0;34m\u001b[0m\u001b[0m\n\u001b[0m\u001b[1;32m      2\u001b[0m \u001b[0;32mimport\u001b[0m \u001b[0mkrakenex\u001b[0m\u001b[0;34m\u001b[0m\u001b[0m\n\u001b[1;32m      3\u001b[0m \u001b[0;32mimport\u001b[0m \u001b[0mstrategy\u001b[0m\u001b[0;34m\u001b[0m\u001b[0m\n\u001b[1;32m      4\u001b[0m \u001b[0;32mfrom\u001b[0m \u001b[0mapi\u001b[0m \u001b[0;32mimport\u001b[0m \u001b[0massets\u001b[0m\u001b[0;34m\u001b[0m\u001b[0m\n\u001b[1;32m      5\u001b[0m \u001b[0;32mimport\u001b[0m \u001b[0mpandas\u001b[0m \u001b[0;32mas\u001b[0m \u001b[0mpd\u001b[0m\u001b[0;34m\u001b[0m\u001b[0m\n",
      "\u001b[0;31mValueError\u001b[0m: Attempted relative import in non-package"
     ]
    }
   ],
   "source": [
    "from ... import kraken_connect\n",
    "import krakenex\n",
    "import strategy\n",
    "from api import assets\n",
    "import pandas as pd\n",
    "\n",
    "# import logging\n",
    "# import time\n",
    "#\n",
    "# # logger = logging.getLogger('main')\n",
    "# # logger.addHandler(logging.StreamHandler())\n",
    "# # hdlr = logging.FileHandler('../log_%s.log' %(time.strftime(\"%Y%m%d\")))\n",
    "# # formatter = logging.Formatter('%(asctime)s %(levelname)s %(message)s')\n",
    "# # hdlr.setFormatter(formatter)\n",
    "# # logger.addHandler(hdlr)\n",
    "# # logger.setLevel(logging.INFO)\n",
    "\n",
    "pair='BCHEUR'\n",
    "k = krakenex.API()\n",
    "k.load_key('../kraken.key')\n",
    "\n",
    "ap = assets.AssetPair(k, pair)\n",
    "ap.refresh_ohlc()\n",
    "prices = ap.get_close_prices()\n",
    "prices_df = pd.DataFrame({'TIMESTAMP': prices.keys(),\n",
    "                          'PRICE': prices.values()})\n",
    "\n",
    "s = strategy.StrategyMV(100, prices_df)\n",
    "s.calc_trades()\n",
    "i = 0\n",
    "\n"
   ]
  }
 ],
 "metadata": {
  "kernelspec": {
   "display_name": "Python 2",
   "language": "python",
   "name": "python2"
  },
  "language_info": {
   "codemirror_mode": {
    "name": "ipython",
    "version": 2
   },
   "file_extension": ".py",
   "mimetype": "text/x-python",
   "name": "python",
   "nbconvert_exporter": "python",
   "pygments_lexer": "ipython2",
   "version": "2.7.13"
  }
 },
 "nbformat": 4,
 "nbformat_minor": 2
}
